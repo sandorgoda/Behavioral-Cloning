{
 "cells": [
  {
   "cell_type": "code",
   "execution_count": 3,
   "metadata": {},
   "outputs": [
    {
     "name": "stdout",
     "output_type": "stream",
     "text": [
      "/home/sandorgoda/Documents/git/SDCND/Project_Work/Behavioral_Cloning/CarND-Behavioral-Cloning-P3\n",
      "(1524, 160, 320, 3)\n",
      "(1524,)\n",
      "Train on 1219 samples, validate on 305 samples\n",
      "Epoch 1/7\n",
      "1219/1219 [==============================] - 2s - loss: 47774286.4750 - val_loss: 5171427.2574\n",
      "Epoch 2/7\n",
      "1219/1219 [==============================] - 0s - loss: 1028549.9580 - val_loss: 216858.833814689\n",
      "Epoch 3/7\n",
      "1219/1219 [==============================] - 0s - loss: 62641.6413 - val_loss: 23937.0040\n",
      "Epoch 4/7\n",
      "1219/1219 [==============================] - 0s - loss: 10560.0323 - val_loss: 7320.9178\n",
      "Epoch 5/7\n",
      "1219/1219 [==============================] - 0s - loss: 7233.9379 - val_loss: 4132.7403\n",
      "Epoch 6/7\n",
      "1219/1219 [==============================] - 0s - loss: 6385.2600 - val_loss: 9716.6582\n",
      "Epoch 7/7\n",
      "1219/1219 [==============================] - 0s - loss: 6100.3971 - val_loss: 3251.3711\n"
     ]
    }
   ],
   "source": [
    "import csv\n",
    "import cv2\n",
    "import numpy as np\n",
    "import h5py\n",
    "import json\n",
    "\n",
    "from keras.callbacks import ModelCheckpoint\n",
    "\n",
    "import os\n",
    "cwd = os.getcwd()\n",
    "print(cwd)\n",
    "\n",
    "lines = []\n",
    "with open('own_training_data/driving_log.csv') as csvfile:\n",
    "    reader = csv.reader(csvfile)\n",
    "    for line in reader:\n",
    "        lines.append(line)\n",
    "        \n",
    "images = []\n",
    "measurements = []\n",
    "for line in lines:\n",
    "    source_path = line[0]\n",
    "    filename = source_path.split('/')[-1]\n",
    "    current_path = './own_training_data/IMG/' + filename\n",
    "    image = cv2.imread(current_path)\n",
    "    images.append(image)\n",
    "    measurement = line[3]\n",
    "    measurements.append(measurement)\n",
    "    \n",
    "X_train = np.array(images)\n",
    "Y_train = np.array(measurements)\n",
    "\n",
    "from keras.models import Sequential\n",
    "from keras.layers import Flatten, Dense\n",
    "\n",
    "model = Sequential()\n",
    "model.add(Flatten(input_shape=(160,320,3)))\n",
    "model.add(Dense(1))\n",
    "\n",
    "print(X_train.shape)\n",
    "print(Y_train.shape)\n",
    "\n",
    "model.compile(loss='mse', optimizer='adam')\n",
    "model.fit(X_train, Y_train, validation_split=0.2, shuffle=True, nb_epoch=7)\n",
    "#model.save=(\"./model.h5\")\n",
    "\n",
    "model.save('model.h5', True)\n",
    "with open('model.json', 'w') as outfile:\n",
    "    json.dump(model.to_json(), outfile)"
   ]
  },
  {
   "cell_type": "code",
   "execution_count": null,
   "metadata": {
    "collapsed": true
   },
   "outputs": [],
   "source": []
  }
 ],
 "metadata": {
  "kernelspec": {
   "display_name": "Python 3",
   "language": "python",
   "name": "python3"
  },
  "language_info": {
   "codemirror_mode": {
    "name": "ipython",
    "version": 3
   },
   "file_extension": ".py",
   "mimetype": "text/x-python",
   "name": "python",
   "nbconvert_exporter": "python",
   "pygments_lexer": "ipython3",
   "version": "3.5.2"
  },
  "widgets": {
   "state": {},
   "version": "1.1.2"
  }
 },
 "nbformat": 4,
 "nbformat_minor": 2
}
