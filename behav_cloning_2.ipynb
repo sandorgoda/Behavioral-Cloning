{
 "cells": [
  {
   "cell_type": "code",
   "execution_count": 16,
   "metadata": {},
   "outputs": [
    {
     "name": "stdout",
     "output_type": "stream",
     "text": [
      "/home/sandorgoda/Documents/git/SDCND/Project_Work/Behavioral_Cloning/CarND-Behavioral-Cloning-P3\n",
      "(1524, 160, 320, 3)\n",
      "(1524,)\n",
      "Train on 1219 samples, validate on 305 samples\n",
      "Epoch 1/2\n",
      "1219/1219 [==============================] - 1s - loss: 742.8659 - val_loss: 76.9135\n",
      "Epoch 2/2\n",
      "1219/1219 [==============================] - 0s - loss: 13.3627 - val_loss: 2.5332\n"
     ]
    }
   ],
   "source": [
    "import csv\n",
    "import cv2\n",
    "import numpy as np\n",
    "import h5py\n",
    "import json\n",
    "\n",
    "from keras.callbacks import ModelCheckpoint\n",
    "\n",
    "import os\n",
    "cwd = os.getcwd()\n",
    "print(cwd)\n",
    "\n",
    "lines = []\n",
    "with open('own_training_data/driving_log.csv') as csvfile:\n",
    "    reader = csv.reader(csvfile)\n",
    "    for line in reader:\n",
    "        lines.append(line)\n",
    "        \n",
    "images = []\n",
    "measurements = []\n",
    "for line in lines:\n",
    "    source_path = line[0]\n",
    "    filename = source_path.split('/')[-1]\n",
    "    current_path = './own_training_data/IMG/' + filename\n",
    "    image = cv2.imread(current_path)\n",
    "    images.append(image)\n",
    "    measurement = line[3]\n",
    "    measurements.append(measurement)\n",
    "    \n",
    "X_train = np.array(images)\n",
    "Y_train = np.array(measurements)\n",
    "\n",
    "from keras.models import Sequential\n",
    "from keras.layers import Flatten, Dense, Lambda\n",
    "#from keras.layers.convolutional import Convolution2D\n",
    "#from keras.layers import MaxPooling2D\n",
    "\n",
    "model = Sequential()\n",
    "model.add(Lambda(lambda x: x / (255.0 - 0.5), input_shape=(160,320,3)))\n",
    "\n",
    "#model.add(Convolution2D(6,5,5, activation=\"relu\"))\n",
    "#model.add(MaxPooling2D())\n",
    "#model.add(Convolution2D(6,5,5, activation=\"relu\"))\n",
    "#model.add(MaxPooling2D())\n",
    "\n",
    "model.add(Flatten())\n",
    "\n",
    "#model.add(Dense(120))\n",
    "#model.add(Dense(84))\n",
    "model.add(Dense(1))\n",
    "\n",
    "print(X_train.shape)\n",
    "print(Y_train.shape)\n",
    "\n",
    "model.compile(loss='mse', optimizer='adam')\n",
    "model.fit(X_train, Y_train, validation_split=0.2, shuffle=True, nb_epoch=2)\n",
    "#model.save=(\"./model.h5\")\n",
    "\n",
    "model.save('model.h5', True)\n",
    "with open('model.json', 'w') as outfile:\n",
    "    json.dump(model.to_json(), outfile)"
   ]
  },
  {
   "cell_type": "code",
   "execution_count": null,
   "metadata": {
    "collapsed": true
   },
   "outputs": [],
   "source": []
  }
 ],
 "metadata": {
  "kernelspec": {
   "display_name": "Python 3",
   "language": "python",
   "name": "python3"
  },
  "language_info": {
   "codemirror_mode": {
    "name": "ipython",
    "version": 3
   },
   "file_extension": ".py",
   "mimetype": "text/x-python",
   "name": "python",
   "nbconvert_exporter": "python",
   "pygments_lexer": "ipython3",
   "version": "3.5.2"
  },
  "widgets": {
   "state": {},
   "version": "1.1.2"
  }
 },
 "nbformat": 4,
 "nbformat_minor": 2
}
